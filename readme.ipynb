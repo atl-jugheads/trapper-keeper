{
 "cells": [
  {
   "cell_type": "markdown",
   "metadata": {},
   "source": [
    "### test... simple md links\n",
    "This is a test: [google](http://www.google.com)\n",
    "\n",
    "This is a test: [binder](http://mybinder.org)"
   ]
  },
  {
   "cell_type": "markdown",
   "metadata": {},
   "source": [
    "### test... link with html to open in new tab\n",
    "This is a test:  <a href=\"http://www.google.com\" target=\"_blank\">google</a>\n",
    "\n",
    "This is a test:  <a href=\"(http://mybinder.org\" target=\"_blank\">binder</a>"
   ]
  },
  {
   "cell_type": "markdown",
   "metadata": {},
   "source": [
    "### orignal...\n",
    "\n",
    "[![Binder](http://mybinder.org/badge.svg)](https://beta.mybinder.org/v2/gh/maartenbreddels/ipyvolume/master?filepath=notebooks/simple.ipynb)"
   ]
  },
  {
   "cell_type": "markdown",
   "metadata": {},
   "source": [
    "[![Binder](http://mybinder.org/badge.svg)](https://beta.mybinder.org/v2/gh/quantopian/qgrid-notebooks/master?filepath=index.ipynb)"
   ]
  },
  {
   "cell_type": "markdown",
   "metadata": {},
   "source": [
    "### table with hyper links\n",
    "\n",
    "|Project|Binder Link|\n",
    "|------|------|\n",
    "|qgrid | [binder](https://beta.mybinder.org/v2/gh/maartenbreddels/ipyvolume/master?filepath=notebooks/simple.ipynb)|\n",
    "|ipyvolume  | [binder](https://beta.mybinder.org/v2/gh/quantopian/qgrid-notebooks/master?filepath=index.ipynb)|"
   ]
  },
  {
   "cell_type": "markdown",
   "metadata": {},
   "source": [
    "### table with badge image as links\n",
    "\n",
    "|Project|Binder Link|\n",
    "|------|------|\n",
    "|qgrid | [![Binder](http://mybinder.org/badge.svg)](https://beta.mybinder.org/v2/gh/maartenbreddels/ipyvolume/master?filepath=notebooks/simple.ipynb)|\n",
    "|ipyvolume  |[![Binder](http://mybinder.org/badge.svg)](https://beta.mybinder.org/v2/gh/quantopian/qgrid-notebooks/master?filepath=index.ipynb) |"
   ]
  },
  {
   "cell_type": "markdown",
   "metadata": {},
   "source": [
    "### table with html links to open in new tab\n",
    "\n",
    "|Project|Binder Link|\n",
    "|------|------|\n",
    "|qgrid | <a href=\"https://beta.mybinder.org/v2/gh/maartenbreddels/ipyvolume/master?filepath=notebooks/simple.ipynb\" target=\"_blank\">binder</a>|\n",
    "|ipyvolume  | <a href=\"(https://beta.mybinder.org/v2/gh/quantopian/qgrid-notebooks/master?filepath=index.ipynb\" target=\"_blank\">binder</a>|"
   ]
  },
  {
   "cell_type": "code",
   "execution_count": null,
   "metadata": {
    "collapsed": true
   },
   "outputs": [],
   "source": []
  }
 ],
 "metadata": {
  "kernelspec": {
   "display_name": "Python 3",
   "language": "python",
   "name": "python3"
  },
  "language_info": {
   "codemirror_mode": {
    "name": "ipython",
    "version": 3
   },
   "file_extension": ".py",
   "mimetype": "text/x-python",
   "name": "python",
   "nbconvert_exporter": "python",
   "pygments_lexer": "ipython3",
   "version": "3.6.2"
  }
 },
 "nbformat": 4,
 "nbformat_minor": 2
}
