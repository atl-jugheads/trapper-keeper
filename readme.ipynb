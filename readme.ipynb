{
 "cells": [
  {
   "cell_type": "markdown",
   "metadata": {},
   "source": [
    "![](https://user-images.githubusercontent.com/4236275/33974126-b8b16198-e054-11e7-86bd-b333f9cde3ba.png)\n",
    "\n",
    "## A collection of the 🔥🔥🔥🔥🔥 binders\n",
    "\n",
    "Binders are running reproducible Jupyter notebooks that run in the cloud.  These awesome projects have excellent documentation and visuals."
   ]
  },
  {
   "cell_type": "markdown",
   "metadata": {},
   "source": [
    "**Note:** When rendered on Github.com the links will launch in the same tab. To have the links launch in new tabs you can use nbviewer by going here: \n",
    "* **[Notebook to launch links in new tab](http://nbviewer.jupyter.org/github/atl-jugheads/trapper-keeper/blob/master/readme.ipynb \"Trapper Keeper\")**"
   ]
  },
  {
   "cell_type": "markdown",
   "metadata": {},
   "source": [
    "|Project|Binder Link|\n",
    "|------|------|\n",
    "|[Bokeh](https://bokeh.pydata.org)| <a href=\"https://mybinder.org/v2/gh/bokeh/bokeh-notebooks/master?filepath=tutorial%2F00%20-%20Introduction%20and%20Setup.ipynb\" target=\"_blank\"><img alt=\"Binder\" src=\"http://mybinder.org/badge.svg\"></a>|\n",
    "|[HoloViews](http://holoviews.org) | <a href=\"https://mybinder.org/v2/gh/ioam/holoviews-contrib/master?filepath=index.ipynb\" target=\"_blank\"><img alt=\"Binder\" src=\"http://mybinder.org/badge.svg\"></a>|\n",
    "|[Python for Data Analysis](https://github.com/wesm/pydata-book)| <a href=\"https://mybinder.org/v2/gh/wesm/pydata-book/2nd-edition\" target=\"_blank\"><img alt=\"Binder\" src=\"http://mybinder.org/badge.svg\"></a>|\n",
    "|[Pandas Cookbook](https://github.com/jvns/pandas-cookbook)| <a href=\"https://mybinder.org/v2/gh/jvns/pandas-cookbook/master?filepath=cookbook\" target=\"_blank\"><img alt=\"Binder\" src=\"http://mybinder.org/badge.svg\"></a>|\n",
    "|[Qgrid](https://github.com/quantopian/qgrid)  | <a href=\"https://beta.mybinder.org/v2/gh/quantopian/qgrid-notebooks/master?filepath=index.ipynb\" target=\"_blank\"><img alt=\"Binder\" src=\"http://mybinder.org/badge.svg\"></a>|\n",
    "|[NetworkX](http://networkx.github.io) | <a href=\"https://mybinder.org/v2/gh/networkx/notebooks/master?filepath=tutorial.ipynb\" target=\"_blank\"><img alt=\"Binder\" src=\"http://mybinder.org/badge.svg\"></a>|\n",
    "|[Jupyter Renderers](https://github.com/jupyterlab/jupyter-renderers)| <a href=\"https://mybinder.org/v2/gh/jupyterlab/jupyter-renderers/master?urlpath=lab\" target=\"_blank\"><img alt=\"Binder\" src=\"http://mybinder.org/badge.svg\"></a>|\n",
    "|[NumPy Exercises](https://github.com/rougier/numpy-100) | <a href=\"https://mybinder.org/v2/gh/rougier/numpy-100/master?filepath=100%20Numpy%20exercises.ipynb\" target=\"_blank\"><img alt=\"Binder\" src=\"http://mybinder.org/badge.svg\"></a>|\n",
    "|[IPyVolume](https://github.com/maartenbreddels/ipyvolume) | <a href=\"https://beta.mybinder.org/v2/gh/maartenbreddels/ipyvolume/master?filepath=notebooks/simple.ipynb\" target=\"_blank\"><img alt=\"Binder\" src=\"http://mybinder.org/badge.svg\"></a>|\n",
    "|[Open Climate Data](https://github.com/openclimatedata) | <a href=\"https://mybinder.org/v2/gh/openclimatedata/notebooks/master?filepath=index.ipynb\" target=\"_blank\"><img alt=\"Binder\" src=\"http://mybinder.org/badge.svg\"></a>|"
   ]
  },
  {
   "cell_type": "code",
   "execution_count": null,
   "metadata": {
    "ExecuteTime": {
     "end_time": "2017-12-17T18:49:12.817266Z",
     "start_time": "2017-12-17T18:49:10.590817Z"
    }
   },
   "outputs": [],
   "source": [
    "    if __name__ == '__main__':\n",
    "        !jupyter nbconvert --to markdown readme.ipynb"
   ]
  },
  {
   "cell_type": "code",
   "execution_count": null,
   "metadata": {
    "collapsed": true
   },
   "outputs": [],
   "source": []
  }
 ],
 "metadata": {
  "kernelspec": {
   "display_name": "Python 3",
   "language": "python",
   "name": "python3"
  },
  "language_info": {
   "codemirror_mode": {
    "name": "ipython",
    "version": 3
   },
   "file_extension": ".py",
   "mimetype": "text/x-python",
   "name": "python",
   "nbconvert_exporter": "python",
   "pygments_lexer": "ipython3",
   "version": "3.6.1"
  }
 },
 "nbformat": 4,
 "nbformat_minor": 2
}
