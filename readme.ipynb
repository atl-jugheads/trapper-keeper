{
 "cells": [
  {
   "cell_type": "markdown",
   "metadata": {},
   "source": [
    "# The Trapper Keeper\n",
    "## Here is a collection of the awesomest binders"
   ]
  },
  {
   "cell_type": "markdown",
   "metadata": {},
   "source": [
    "Note: When rendered on GitHub the hyperlinks will open in the current tab. To get around this, the notebook is exported to HTML and then rendered using https://htmlpreview.github.io/."
   ]
  },
  {
   "cell_type": "markdown",
   "metadata": {},
   "source": [
    "|Project|Binder Link|\n",
    "|------|------|\n",
    "|ipyvolume  | <a href=\"https://beta.mybinder.org/v2/gh/quantopian/qgrid-notebooks/master?filepath=index.ipynb\" target=\"_blank\"><img alt=\"Binder\" src=\"http://mybinder.org/badge.svg\"></a>|\n",
    "|qgrid | <a href=\"https://beta.mybinder.org/v2/gh/maartenbreddels/ipyvolume/master?filepath=notebooks/simple.ipynb\" target=\"_blank\"><img alt=\"Binder\" src=\"http://mybinder.org/badge.svg\"></a>|\n",
    "|holoviews | <a href=\"https://mybinder.org/v2/gh/ioam/holoviews-contrib/master\" target=\"_blank\"><img alt=\"Binder\" src=\"http://mybinder.org/badge.svg\"></a>|\n",
    "|numpy exercises | <a href=\"http://mybinder.org/repo/rougier/numpy-100/notebooks/100%20Numpy%20exercises.ipynb\" target=\"_blank\"><img alt=\"Binder\" src=\"http://mybinder.org/badge.svg\"></a>|\n",
    "|pandas cookbook | <a href=\"https://hub.mybinder.org/user/jvns-pandas-cookbook-phiwyykj/tree\" target=\"_blank\"><img alt=\"Binder\" src=\"http://mybinder.org/badge.svg\"></a>|\n",
    "|open climate data | <a href=\"https://hub.mybinder.org/user/openclimatedata-notebooks-hdvlcnfn/tree\" target=\"_blank\"><img alt=\"Binder\" src=\"http://mybinder.org/badge.svg\"></a>|\n",
    "|networkx | <a href=\"https://hub.mybinder.org/user/networkx-notebooks-i52glmx3/tree\" target=\"_blank\"><img alt=\"Binder\" src=\"http://mybinder.org/badge.svg\"></a>|\n",
    "|jupyter renderers | <a href=\"https://hub.mybinder.org/user/jupyterlab-jupyter-renderers-ubadkbro/tree/notebooks\" target=\"_blank\"><img alt=\"Binder\" src=\"http://mybinder.org/badge.svg\"></a>|\n",
    "|pydata book| <a href=\"https://hub.mybinder.org/user/wesm-pydata-book-0c8x45oo/tree\" target=\"_blank\"><img alt=\"Binder\" src=\"http://mybinder.org/badge.svg\"></a>|"
   ]
  }
 ],
 "metadata": {
  "kernelspec": {
   "display_name": "Python 3",
   "language": "python",
   "name": "python3"
  },
  "language_info": {
   "codemirror_mode": {
    "name": "ipython",
    "version": 3
   },
   "file_extension": ".py",
   "mimetype": "text/x-python",
   "name": "python",
   "nbconvert_exporter": "python",
   "pygments_lexer": "ipython3",
   "version": "3.6.2"
  }
 },
 "nbformat": 4,
 "nbformat_minor": 2
}
